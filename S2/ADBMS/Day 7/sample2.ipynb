{
 "cells": [
  {
   "cell_type": "code",
   "execution_count": 1,
   "id": "965193a0-35c5-46d6-b0db-1157151f25e8",
   "metadata": {},
   "outputs": [],
   "source": [
    "import pymongo"
   ]
  },
  {
   "cell_type": "code",
   "execution_count": 3,
   "id": "89794130-146c-423e-96f5-970b5696d2fe",
   "metadata": {},
   "outputs": [],
   "source": [
    "conn = pymongo.MongoClient(\"mongodb://localhost:27017/\")\n",
    "db=conn['sampleDB']\n",
    "col = db['People']"
   ]
  },
  {
   "cell_type": "code",
   "execution_count": 4,
   "id": "31907cc4-eb87-4dcd-b5e4-02b2b789949f",
   "metadata": {},
   "outputs": [],
   "source": [
    "rec = {\n",
    "    \"Name\": \"Rohit\",\n",
    "    \"Age\": 21,\n",
    "    \"Place\": \"Ernakulam\",\n",
    "    \"College\": \"CET\"\n",
    "}"
   ]
  },
  {
   "cell_type": "code",
   "execution_count": 5,
   "id": "6b7f3340-0ded-4727-907d-9dd90d5296a5",
   "metadata": {},
   "outputs": [
    {
     "data": {
      "text/plain": [
       "InsertOneResult(ObjectId('67d933821353267adee4935d'), acknowledged=True)"
      ]
     },
     "execution_count": 5,
     "metadata": {},
     "output_type": "execute_result"
    }
   ],
   "source": [
    "col.insert_one(rec)"
   ]
  },
  {
   "cell_type": "code",
   "execution_count": 6,
   "id": "65c4dd11-27bd-454c-97ca-227486a21aa8",
   "metadata": {},
   "outputs": [],
   "source": [
    "rec = [\n",
    "    {\"Name\": \"Diva\", \"Age\": 25, \"Place\": \"Ernakulam\", \"College\": \"CET\"},\n",
    "    {\"Name\": \"Gokul\", \"Age\": 21, \"College\": \"CET\"},\n",
    "    {\"Name\": \"Chaithanya\", \"Place\": \"Thrissur\", \"College\": \"CET\"}\n",
    "]"
   ]
  },
  {
   "cell_type": "code",
   "execution_count": 7,
   "id": "ee6f77b7-48c5-45fd-bc79-cd8d532f3aaa",
   "metadata": {},
   "outputs": [
    {
     "data": {
      "text/plain": [
       "InsertManyResult([ObjectId('67d933941353267adee4935e'), ObjectId('67d933941353267adee4935f'), ObjectId('67d933941353267adee49360')], acknowledged=True)"
      ]
     },
     "execution_count": 7,
     "metadata": {},
     "output_type": "execute_result"
    }
   ],
   "source": [
    "col.insert_many(rec)"
   ]
  },
  {
   "cell_type": "code",
   "execution_count": 83,
   "id": "65182e77-3524-46a0-a6a7-dd57c9e39e16",
   "metadata": {},
   "outputs": [
    {
     "name": "stdout",
     "output_type": "stream",
     "text": [
      "Rohit\n",
      "Diva\n",
      "Gokul\n",
      "Chaithanya\n"
     ]
    }
   ],
   "source": [
    "var = col.find({}, {\"Name\": 1, \"_id\": 0})\n",
    "for i in var:\n",
    "    print(i[\"Name\"])"
   ]
  },
  {
   "cell_type": "code",
   "execution_count": 84,
   "id": "c09a6166-b889-4cdb-a66b-22b5882720dd",
   "metadata": {},
   "outputs": [
    {
     "name": "stdout",
     "output_type": "stream",
     "text": [
      "Rohit\n",
      "Diva\n",
      "Gokul\n",
      "Chaithanya\n"
     ]
    }
   ],
   "source": [
    "var = col.find({}, {\"_id\": 0})\n",
    "for i in var:\n",
    "    print(i[\"Name\"])"
   ]
  },
  {
   "cell_type": "code",
   "execution_count": 30,
   "id": "5a011d81-add7-42bd-bea6-f609dff1541c",
   "metadata": {},
   "outputs": [
    {
     "name": "stdout",
     "output_type": "stream",
     "text": [
      "{'Name': 'Rohit'}\n"
     ]
    }
   ],
   "source": [
    "var = col.find({\"Name\":\"Rohit\"}, {\"Name\": 1, \"_id\": 0})\n",
    "for i in var:\n",
    "    print(i)"
   ]
  },
  {
   "cell_type": "code",
   "execution_count": 31,
   "id": "7cbb7144-fdc3-4a58-96f6-10d6d6d5224e",
   "metadata": {},
   "outputs": [
    {
     "name": "stdout",
     "output_type": "stream",
     "text": [
      "{'_id': ObjectId('67d933821353267adee4935d'), 'Name': 'Rohit', 'Age': 21, 'Place': 'Ernakulam', 'College': 'CET'}\n",
      "{'_id': ObjectId('67d933941353267adee4935e'), 'Name': 'Diva', 'Age': 25, 'Place': 'Ernakulam', 'College': 'CET'}\n",
      "{'_id': ObjectId('67d933941353267adee4935f'), 'Name': 'Gokul', 'Age': 21, 'College': 'CET'}\n",
      "{'_id': ObjectId('67d933941353267adee49360'), 'Name': 'Chaithanya', 'Place': 'Thrissur', 'College': 'CET'}\n"
     ]
    }
   ],
   "source": [
    "var = col.find()\n",
    "for i in var:\n",
    "    print(i)"
   ]
  },
  {
   "cell_type": "code",
   "execution_count": 90,
   "id": "e7c395d5-2c17-40fb-b22c-f734a5b950a2",
   "metadata": {},
   "outputs": [
    {
     "name": "stdout",
     "output_type": "stream",
     "text": [
      "Rohit\n",
      "Diva\n",
      "Gokul\n"
     ]
    }
   ],
   "source": [
    "var = col.find({}, {\"Name\": 1, \"_id\": 0}).limit(3)\n",
    "for i in var:\n",
    "    print(i[\"Name\"])"
   ]
  },
  {
   "cell_type": "code",
   "execution_count": 92,
   "id": "8e9c5fca-bd5b-48fd-9022-b78ff551c511",
   "metadata": {},
   "outputs": [
    {
     "name": "stdout",
     "output_type": "stream",
     "text": [
      "Chaithanya\n",
      "Diva\n",
      "Gokul\n"
     ]
    }
   ],
   "source": [
    "var = col.find({}, {\"Name\": 1, \"_id\": 0}).sort(\"Name\").limit(3)\n",
    "for i in var:\n",
    "    print(i[\"Name\"])"
   ]
  },
  {
   "cell_type": "code",
   "execution_count": 98,
   "id": "d449110d-730a-4206-9201-7b871d9b0ff5",
   "metadata": {},
   "outputs": [
    {
     "name": "stdout",
     "output_type": "stream",
     "text": [
      "Chaithanya\n",
      "Rohit\n",
      "Gokul\n",
      "Diva\n"
     ]
    }
   ],
   "source": [
    "var = col.find({}, {\"_id\": 0}).sort(\"Age\")\n",
    "for i in var:\n",
    "    print(i[\"Name\"])"
   ]
  },
  {
   "cell_type": "code",
   "execution_count": 99,
   "id": "8266e788-11e9-4478-8e21-f0be97312d06",
   "metadata": {},
   "outputs": [
    {
     "name": "stdout",
     "output_type": "stream",
     "text": [
      "Rohit\n",
      "Gokul\n"
     ]
    }
   ],
   "source": [
    "var = col.find({\"Age\": {\"$lt\": 25}}, {\"_id\": 0}).sort(\"Age\")\n",
    "for i in var:\n",
    "    print(i[\"Name\"])"
   ]
  }
 ],
 "metadata": {
  "kernelspec": {
   "display_name": "Python 3 (ipykernel)",
   "language": "python",
   "name": "python3"
  },
  "language_info": {
   "codemirror_mode": {
    "name": "ipython",
    "version": 3
   },
   "file_extension": ".py",
   "mimetype": "text/x-python",
   "name": "python",
   "nbconvert_exporter": "python",
   "pygments_lexer": "ipython3",
   "version": "3.12.0"
  }
 },
 "nbformat": 4,
 "nbformat_minor": 5
}
